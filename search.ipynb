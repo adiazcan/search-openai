{
 "cells": [
  {
   "cell_type": "code",
   "execution_count": 2,
   "metadata": {},
   "outputs": [],
   "source": [
    "from azure.core.credentials import AzureKeyCredential\n",
    "import openai\n",
    "from openai.embeddings_utils import cosine_similarity, get_embedding\n",
    "from azure.search.documents import SearchClient\n",
    "from azure.search.documents.models import RawVectorQuery\n",
    "from dotenv import load_dotenv\n",
    "import os\n",
    "import json\n",
    "\n",
    "load_dotenv(\"./.env\");\n",
    "\n",
    "AZURE_OPENAI_URL = os.getenv(\"OPENAI_API_BASE_URL\")\n",
    "AZURE_SEARCH_SERVICE = os.getenv(\"AZURE_SEARCH_SERVICE\")\n",
    "AZURE_SEARCH_KEY = os.getenv(\"AZURE_SEARCH_KEY\")\n",
    "AZURE_SEARCH_INDEX = os.getenv(\"AZURE_SEARCH_INDEX\")\n",
    "EMBEDDING_MODEL = os.getenv(\"AZURE_OPENAI_EMB_MODEL_NAME\")\n",
    "COMPLETIONS_MODEL = os.getenv(\"AZURE_OPENAI_CHATGPT_MODEL\")\n",
    "\n",
    "openai.api_key = os.getenv(\"OPENAI_API_KEY\")\n",
    "openai.api_type = str(os.getenv(\"OPENAI_HOST\"))\n",
    "openai.api_base = AZURE_OPENAI_URL\n",
    "openai.api_version = os.getenv(\"OPENAI_API_VERSION\")"
   ]
  },
  {
   "cell_type": "code",
   "execution_count": 3,
   "metadata": {},
   "outputs": [],
   "source": [
    "def get_function_call(messages, function_call = \"auto\"):\n",
    "    functions = [\n",
    "        {\n",
    "            \"name\": \"get_filters\",\n",
    "            \"description\": \"Get filter for search\",\n",
    "            \"parameters\": {\n",
    "                \"type\": \"object\",\n",
    "                \"properties\": {\n",
    "                    \"year\": {\n",
    "                        \"type\": \"string\",\n",
    "                        \"description\": \"The year of the query\",\n",
    "                    }\n",
    "                },\n",
    "            },\n",
    "        },\n",
    "    ]\n",
    "\n",
    "    # Call the model with the user query (messages) and the functions defined in the functions parameter\n",
    "    response = openai.ChatCompletion.create(\n",
    "        deployment_id = COMPLETIONS_MODEL,\n",
    "        messages=messages,\n",
    "        functions=functions,\n",
    "        function_call=function_call, \n",
    "    )\n",
    "\n",
    "    return response"
   ]
  },
  {
   "cell_type": "code",
   "execution_count": 4,
   "metadata": {},
   "outputs": [
    {
     "name": "stdout",
     "output_type": "stream",
     "text": [
      "{\n",
      "  \"name\": \"get_filters\",\n",
      "  \"arguments\": \"{\\n  \\\"year\\\": \\\"2022\\\"\\n}\"\n",
      "}\n"
     ]
    }
   ],
   "source": [
    "prompt = [{\"role\": \"user\", \"content\": \"¿cuántas horas se han dedicado a formación en el año 2022?\"}]\n",
    "response = get_function_call(prompt, \"auto\")\n",
    "response_message = response[\"choices\"][0][\"message\"]\n",
    "print(response_message.get(\"function_call\"))\n",
    "function_args = json.loads(response_message[\"function_call\"][\"arguments\"])"
   ]
  },
  {
   "cell_type": "code",
   "execution_count": 5,
   "metadata": {},
   "outputs": [
    {
     "name": "stdout",
     "output_type": "stream",
     "text": [
      "year eq '2022'\n"
     ]
    }
   ],
   "source": [
    "def create_filter_expression(json_obj):\n",
    "    return ' and '.join([f\"{k} eq '{v}'\" for k, v in json_obj.items()])\n",
    "\n",
    "filter = create_filter_expression(function_args)\n",
    "print(filter)"
   ]
  },
  {
   "cell_type": "code",
   "execution_count": 32,
   "metadata": {},
   "outputs": [
    {
     "name": "stdout",
     "output_type": "stream",
     "text": [
      "\n",
      "memoria-social-encamina-2022.pdf#page=63:  Seis alumnos de algunos de estos centros que han realizado prácticas en ENCAMINA ya han entrado a formar parte de la plantilla al finalizar su beca. <table><tr><th colSpan=4></th></tr><tr><th></th><th></th><th></th><th></th></tr><tr><td></td><td></td><td rowSpan=4>101%</td><td rowSpan=4></td></tr><tr><td></td><td></td></tr><tr><td></td><td rowSpan=2></td></tr><tr><td>4</td></tr></table> 63ColaboraciónMemoria Social ENCAMINA 2022 Orgullosos de compartir con la comunidad techie todo lo que sabemos Aportamos nuestra experiencia y conocimiento TIC como parte de nuestra RSC +120 +100 Sesiones online Charlas 0-0 FEB 000 O 2 +75 +50 Eventos Patrocinios Blog OC :unselected: :unselected: +120 +70 Artículos Vídeos 66 :unselected: :unselected:Colaboración +120 sesiones online Vinculados a la tecnología más innovadora, vía streaming Disfrutamos conectándonos con la comunidad y con nuestros clientes a través de webinars propios y en colaboración con Microsoft y con las comunidades técnicas más relevantes. Propulsion Academy Tres años lleva en marcha este espacio pensado para hablar de soluciones, productos y servicios tecnológicos que ayudan \n",
      "memoria-social-encamina-2022.pdf#page=50: para participar del desarrollo de talento TIC en la sociedad y puesto que en eso consiste nuestra RSC, en fomentar el talento TIC, en ENCAMINA estamos muy comprometidos con el fomento de las prácticas. Este año, nos han acompañado 13 alumnos en prácticas, 6 de los cuales ya las han concluido y han pasado a formar parte del #ENCATEAM. Los centros que nos han permitido contar con sus alumnos han sido ESIC, Tajamar, Universidad Politécnica de Valencia, Universidad Politécnica de Catalunya, IES Lluis Simarro, Implika e IES Camp Morvedre. 50Talento 155.000h de experiencia En 2022 las horas de nueva experiencia profesional suman más de 155.000. Con ellas, nuestro equipo incrementa su valor, tanto en términos de atractivo individual en el mercado, como de incremento del expertise del equipo de cara a nuestros clientes actuales y potenciales. 49 empleos creados ENCAMINA ha experimentado el mayor crecimiento del equipo hasta la fecha, en un solo año. Con los 49 nuevos compañeros que se han sumado al equipo en 2022, el #ENCATEAM ya supera las 150 personas. Además, hemos seguido incorporando nacionalidades y somos todavía más everywhere con compañeros de Argentina, Colombia, Cuba, \n",
      "memoria-social-encamina-2022.pdf#page=42:  42Equipo 434 EDUCACIÓN DE CALIDAD Nos volcamos en el talento porque queremos aportar nuestro granito de arena para garantizar una educación inclusiva, equitativa y de calidad y promover oportunidades de aprendizaje durante toda la vida para todos, en sintonía con los Objetivos de Desarrollo del Milenio. 8 TRABAJO DECENTE Y CRECIMIENTO ECONÓMICO ENCAMINA pone el foco en el esfuerzo alineándose con el objetivo de promover el crecimiento económico inclusivo y sostenible, el empleo y el trabajo decente para todos dentro del marco de los Objetivos de Desarrollo del Milenio.TalentoMemoria Social ENCAMINA 2022 La FORMACIÓN para que el TALENTO del #ENCATEAM brille, sigue siendo nuestra prioridad Aprendemos y nos desarrollamos continuamente tambié 45 nuevas certificaciones Hemos cerrado el 2022 con otro récord en certificaciones. 45 nuevas certificaciones en tecnologías Microsoft se han sumado dentro del equipo, acreditando un año más, que nuestro foco está en ampliar al máximo nuestro conocimiento en las tecnologías punteras en las que tenemos nuestro foco estratégico: Cloud Native, Infrastructure, Data & Al en Azure, Low Code con Power Platform, Adopción \n",
      "memoria-social-encamina-2022.pdf#page=134: e innovando, y también de que sus historias inspiren a otros Hemos aportado productividad e innovación <table><tr><td></td><td>000</td></tr><tr><td>+ 8.400</td><td>+130</td></tr><tr><td>Horas dedicadas a formar y capacitar a nuestros clientes</td><td>Clientes han mejorado gracias a nuestra ayuda</td></tr><tr><td></td><td>$</td></tr><tr><td>+69</td><td>+155,000</td></tr><tr><td>Proyectos finalizados con exito</td><td>Horas de esfuerzo dedicadas a</td></tr><tr><td>y +150 en marcha</td><td>nuestros clientes y sus proyectos</td></tr></table> 134Esfuerzo SINTINO TINO 39 Tipos de amenazas Amenazas :selected: EXIT UVAMAH INNOVAMAX 135Memoria Social ENCAMINA 2022 ercamina Services Grupo 4 arpada ¡Muchas gracias por vuestra visita! Grupo Lampada Antonio Reinón Sánchez Gey Grupo Sarsada Roberto Arribas Hernández encamina 136Esfuerzo De todos nuestros proyectos, tres han destacado por encima de los demás y se han convertido en auténticas historias de inspiración, para nosotros y para el resto de nuestros clientes. Familia Martínez, ejemplo de transformación digital gracias al Big Data El grupo de alimentación valenciano ha estandarizado su sistema de analítica de datos con tecnología de \n",
      "memoria-social-encamina-2022.pdf#page=62: de Sanlúcar la Mayor :selected: Sevilla Nuestro compañero José Manuel Castillo repite por segundo año con los chicos y chicas del Instituto Lucus Solís de Sevilla, a los que habló de las especializaciones con más futuro, relacionadas con la tecnología y los servicios en la nube. La I.E. S. Coleda LA TECH La carrera ija ha comenzado DIDERS® IES La Arboleda ART Alcorcón Borja Piris estuvo toda una mañana charlando con los chavales del Instituto La Arboleda, hablándoles sobre el proyecto TechRiders de Tajamar.Talento tajamar. IES camp de MORVEDRES UNIVERSITAT POLITÉCNICA DE CATALUNYA BARCELONATECH UPC IES DR. LLUIS SIMARRE ENSENYAMENT PUBLIC XATIVA LA LESIC BUSINESS&MARKETINGSCHOOL + JALE UNIVERSITAT POLITECNICA DE VALENCIA implikac Tes lucus solis Otros centros También hemos colaborado con otros centros de enseñanza cuyos programas formativos están alineados con nosotros o cuya formación incluye tecnologías Microsoft, por ejemplo, Universitat Politècnica de València, Universitat Politècnica de Catalunya, IES Lluís Simarro e Implika. Seis alumnos de algunos de estos centros que han realizado prácticas en ENCAMINA ya han entrado a formar parte de la plantilla al finalizar su beca.\n"
     ]
    }
   ],
   "source": [
    "credential = AzureKeyCredential(AZURE_SEARCH_KEY)\n",
    "search_client = SearchClient(endpoint=AZURE_SEARCH_SERVICE, index_name=AZURE_SEARCH_INDEX, credential=credential)\n",
    "\n",
    "search_query = \"¿cuántas horas se han dedicado a formación?\"\n",
    "search_vector = get_embedding(search_query, engine=EMBEDDING_MODEL)\n",
    "r = search_client.search(None, top=5, vector_queries=[RawVectorQuery(vector=search_vector, k=50, fields=\"embedding\")], filter=filter)\n",
    "\n",
    "content = \"\"\n",
    "for doc in r:\n",
    "    doccontent = doc[\"content\"].replace(\"\\n\", \" \")\n",
    "    content += \"\\n\" + f\"{doc['sourcepage']}: {doccontent}\"\n",
    "    \n",
    "# results = [doc[self.sourcepage_field] + \": \" + doc[self.content_field] async for doc in r]\n",
    "# content = \"\\n\".join(results)\n",
    "        \n",
    "print(content)"
   ]
  },
  {
   "cell_type": "code",
   "execution_count": 29,
   "metadata": {},
   "outputs": [],
   "source": [
    "system_chat_template = \"\"\"\n",
    "You are an intelligent assistant helping Contoso Inc employees with their healthcare plan questions and employee handbook questions. \n",
    "Use 'you' to refer to the individual asking the questions even if they ask with 'I'. \n",
    "Answer the following question using only the data provided in the sources below. \n",
    "For tabular information return it as an html table. Do not return markdown format. \n",
    "Each source has a name followed by colon and the actual information, always include the source name for each fact you use in the response. \n",
    "If you cannot answer using the sources below, say you don't know. Use below example to answer. \n",
    "\"\"\"\n",
    "\n",
    "question = \"\"\" \n",
    "'What is the deductible for the employee plan for a visit to Overlake in Bellevue?'\n",
    "\n",
    "Sources:\n",
    "info1.txt: deductibles depend on whether you are in-network or out-of-network. In-network deductibles are $500 for employee and $1000 for family. Out-of-network deductibles are $1000 for employee and $2000 for family.\n",
    "info2.pdf: Overlake is in-network for the employee plan.\n",
    "info3.pdf: Overlake is the name of the area that includes a park and ride near Bellevue.\n",
    "info4.pdf: In-network institutions include Overlake, Swedish and others in the region\n",
    "\"\"\"\n",
    "\n",
    "answer = \"\"\" \n",
    "In-network deductibles are $500 for employee and $1000 for family [info1.txt] and Overlake is in-network for the employee plan [info2.pdf][info4.pdf].\n",
    "\"\"\""
   ]
  },
  {
   "cell_type": "code",
   "execution_count": 30,
   "metadata": {},
   "outputs": [],
   "source": [
    "messages = []\n",
    "messages.append(\n",
    "    {\n",
    "        \"role\": \"system\",\n",
    "        \"content\": system_chat_template,\n",
    "    }\n",
    ")\n",
    "messages.append(\n",
    "    {\n",
    "        \"role\": \"system\",\n",
    "        \"content\": answer\n",
    "    }\n",
    ")\n",
    "messages.append(\n",
    "    {\n",
    "        \"role\": \"user\",\n",
    "        \"content\": question\n",
    "    }\n",
    ")\n",
    "\n",
    "user_content = search_query + \"\\n\" + f\"Sources:\\n {content}\"\n",
    "\n",
    "messages.append(    \n",
    "    {\n",
    "        \"role\": \"user\",\n",
    "        \"content\": user_content,\n",
    "    }\n",
    ")\n"
   ]
  },
  {
   "cell_type": "code",
   "execution_count": 31,
   "metadata": {},
   "outputs": [
    {
     "name": "stdout",
     "output_type": "stream",
     "text": [
      "{\n",
      "  \"role\": \"assistant\",\n",
      "  \"content\": \"I'm sorry, but I couldn't find any information about training hours in the provided sources.\"\n",
      "}\n"
     ]
    }
   ],
   "source": [
    "response = openai.ChatCompletion.create(\n",
    "    messages=messages,\n",
    "    deployment_id=COMPLETIONS_MODEL\n",
    ")\n",
    "\n",
    "print(response['choices'][0]['message'])"
   ]
  }
 ],
 "metadata": {
  "kernelspec": {
   "display_name": "Python 3",
   "language": "python",
   "name": "python3"
  },
  "language_info": {
   "codemirror_mode": {
    "name": "ipython",
    "version": 3
   },
   "file_extension": ".py",
   "mimetype": "text/x-python",
   "name": "python",
   "nbconvert_exporter": "python",
   "pygments_lexer": "ipython3",
   "version": "3.11.3"
  }
 },
 "nbformat": 4,
 "nbformat_minor": 2
}
