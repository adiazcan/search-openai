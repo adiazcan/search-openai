{
 "cells": [
  {
   "cell_type": "code",
   "execution_count": 1,
   "metadata": {},
   "outputs": [],
   "source": [
    "from azure.core.credentials import AzureKeyCredential\n",
    "import openai\n",
    "from openai.embeddings_utils import cosine_similarity, get_embedding\n",
    "from azure.search.documents import SearchClient\n",
    "from azure.search.documents.models import RawVectorQuery\n",
    "from dotenv import load_dotenv\n",
    "import os\n",
    "import json\n",
    "\n",
    "load_dotenv(\"./.env\");\n",
    "\n",
    "AZURE_OPENAI_URL = os.getenv(\"OPENAI_API_BASE_URL\")\n",
    "AZURE_SEARCH_SERVICE = os.getenv(\"AZURE_SEARCH_SERVICE_URI\")\n",
    "AZURE_SEARCH_KEY = os.getenv(\"AZURE_SEARCH_KEY\")\n",
    "AZURE_SEARCH_INDEX = os.getenv(\"AZURE_SEARCH_INDEX\")\n",
    "EMBEDDING_MODEL = os.getenv(\"AZURE_OPENAI_EMB_MODEL_NAME\")\n",
    "COMPLETIONS_MODEL = os.getenv(\"AZURE_OPENAI_CHATGPT_MODEL\")\n",
    "\n",
    "openai.api_key = os.getenv(\"OPENAI_API_KEY\")\n",
    "openai.api_type = str(os.getenv(\"OPENAI_HOST\"))\n",
    "openai.api_base = AZURE_OPENAI_URL\n",
    "openai.api_version = os.getenv(\"OPENAI_API_VERSION\")"
   ]
  },
  {
   "cell_type": "code",
   "execution_count": 59,
   "metadata": {},
   "outputs": [],
   "source": [
    "def get_function_call(messages, function_call = \"auto\"):\n",
    "    functions = [\n",
    "        {\n",
    "            \"name\": \"get_filters\",\n",
    "            \"description\": \"Get filter for search\",\n",
    "            \"parameters\": {\n",
    "                \"type\": \"object\",\n",
    "                \"properties\": {\n",
    "                    \"year\": {\n",
    "                        \"type\": \"string\",\n",
    "                        \"description\": \"The year of the query\",\n",
    "                    }\n",
    "                },\n",
    "            },\n",
    "        },\n",
    "    ]\n",
    "\n",
    "    # Call the model with the user query (messages) and the functions defined in the functions parameter\n",
    "    response = openai.ChatCompletion.create(\n",
    "        deployment_id = COMPLETIONS_MODEL,\n",
    "        messages=messages,\n",
    "        functions=functions,\n",
    "        function_call=function_call, \n",
    "    )\n",
    "\n",
    "    return response\n",
    "\n",
    "def create_filter_expression(json_obj):\n",
    "    return ' and '.join([f\"{k} eq '{v}'\" for k, v in json_obj.items()])\n",
    "\n",
    "def vector_search(search_query, filter):\n",
    "    credential = AzureKeyCredential(AZURE_SEARCH_KEY)\n",
    "    search_client = SearchClient(endpoint=AZURE_SEARCH_SERVICE, index_name=AZURE_SEARCH_INDEX, credential=credential)\n",
    "\n",
    "    search_vector = get_embedding(search_query, engine=EMBEDDING_MODEL)\n",
    "    r = search_client.search(None, top=5, vector_queries=[RawVectorQuery(vector=search_vector, k=5, fields=\"embedding\", exhaustive=True)], filter=filter)\n",
    "\n",
    "    content = \"\"\n",
    "    for doc in r:\n",
    "        doccontent = doc[\"content\"].replace(\"\\n\", \" \")\n",
    "        content += \"\\n\" + f\"{doc['sourcepage']}: {doccontent}\"\n",
    "        print(f\"{doc['@search.score']}: {doc['sourcepage']}: {doccontent}\")\n",
    "    \n",
    "    return content"
   ]
  },
  {
   "cell_type": "code",
   "execution_count": 57,
   "metadata": {},
   "outputs": [
    {
     "name": "stdout",
     "output_type": "stream",
     "text": [
      "{\n",
      "  \"name\": \"get_filters\",\n",
      "  \"arguments\": \"{\\n  \\\"year\\\": \\\"2018\\\"\\n}\"\n",
      "}\n",
      "year eq '2018'\n"
     ]
    }
   ],
   "source": [
    "# search_query = \"¿cuántas horas se han dedicado a formación en el año 2022?\"\n",
    "# search_query = \"¿cuántas certificaciones en el año 2022?\"\n",
    "# search_query = \"¿qué es pensar en colores?\"\n",
    "# search_query = \"¿qué premios se recibieron en el año 2021?\"\n",
    "# search_query = \"¿Cuántos MVP habían en el año 2018?\"\n",
    "search_query = \"¿Qué webinars se hicieron en el 2018?\"\n",
    "\n",
    "prompt = [{\"role\": \"user\", \"content\": search_query}]\n",
    "response = get_function_call(prompt, \"auto\")\n",
    "response_message = response[\"choices\"][0][\"message\"]\n",
    "\n",
    "if response_message.get(\"function_call\"):\n",
    "    print(response_message.get(\"function_call\"))\n",
    "    function_args = json.loads(response_message[\"function_call\"][\"arguments\"])\n",
    "    filter = create_filter_expression(function_args)\n",
    "    print(filter)\n",
    "else:\n",
    "    print(\"No function call\")\n",
    "    filter = \"\""
   ]
  },
  {
   "cell_type": "code",
   "execution_count": 44,
   "metadata": {},
   "outputs": [
    {
     "name": "stdout",
     "output_type": "stream",
     "text": [
      "0.83984154: memoria-social-encamina-2018.pdf#page=13: Adrián Díaz habló de las  herramientas digitales que permiten optimizar  el trabajo de los profesores en la corrección  de exámenes y que mejoran los procesos  entre alumnos, padres, profesores y centros.“REVISE: Cómo facilitar  la corrección masiva de  exámenes aprovechando   el cloud de Microsoft”En este webinar hablamos de los beneficios  de digitalizar los puestos de trabajo de la  primera línea industrial y cómo la corporación  puede proporcionar a los firstline workers  herramientas digitales modernas que les  hagan sentirse más implicados y alineados  con la cultura empresarial. De nuevo lo  impartió Daniel Alonso.“Office 365 F1 para   sector industrial”Webinar enfocado a empresas del sector  retail que ya conocen las ventajas de Office  365 entre su personal de oficina, pero que  todavía no le ven el ROI a usarlo entre sus  trabajadores de primera línea. Impartido  por Daniel Alonso, Cloud Solutions Principal  Advisor de ENCAMINA.“Es hora de transformar tu  Primera Línea: Office 365  F1 para sector retail”Coincidiendo con el 10º aniversario de la  revista CompartiMOSS, sus 4 directores  aprovecharon el retiro espiritual del MVP  Global Summit en Redmond para impartir  un \n",
      "0.8386744: memoria-social-encamina-2018.pdf#page=13: Línea: Office 365  F1 para sector retail”Coincidiendo con el 10º aniversario de la  revista CompartiMOSS, sus 4 directores  aprovecharon el retiro espiritual del MVP  Global Summit en Redmond para impartir  un webinar sobre el futuro de la tecnología  Microsoft. El CTIO de ENCAMINA, Alberto  Díaz, estuvo muy bien acompañado por los  otros 3 directores de la revista: Gustavo Vélez,  Juan Carlos González y Fabian Imaz.“El futuro es ahora”Robert Bermejo, Former employee of  ENCAMINA impartió este webinar organizado  por la Comunidad Técnica CATzure, en el   que hizo un overview sobre Azure   Durable Functions.“Haciendo Workflows con  Azure”El webinar lo organizó la revista  CompartiMOSS y la impartieron nuestros  cracks Adrían Díaz Cervera, Office  Development MVP y Cloud Architect Lead  en ENCAMINA y Sergio Hernández, Principal  Team Leader en ENCAMINA, junto a otros  expertísimos como Luis Mañez y   Rubén Ramos.“ALM para Office 365”#ed8210  02. COLABORACIÓN CompartiMOSS, la revista digital de habla  hispana patrocinada por ENCAMINA organizó  este webinar sobre arquitectura Serverless  en el que intervinieron Sergio Hernández,  Principal Team Leader de ENCAMINA   y Alberto Díaz.\n",
      "0.83821017: memoria-social-encamina-2018.pdf#page=14:  En esta  sesión Daniel Alonso explicó cómo ayudan  en materia de seguridad  los sistemas de  Protección de la Información basados   en Azure.“Seguridad en O365   y Azure” En este webinar, Iván Vargas, Cloud Solutions  Specialist en ENCAMINA, habló de Azure  Databricks en profundidad, incluidas sus  tecnologías y funcionalidades.“Inteligencia Artificial:  Viaje al centro   de Databricks”Adrián del Rincón, Software & Cloud Architect  en ENCAMINA explicó las ventajas de crear  modelos de IA personalizados y a escala para  expandir las soluciones de cada negocio con  servicios inteligentes.“IA Personalizada:  Desarrollando aplicaciones  a medida   de tu empresa” Media horita de sesión en la que Santiago  Porras, Innovation Team Leader en  ENCAMINA habló de aplicaciones reales de  Inteligencia Artificial, basadas en Cognitive  Services de Microsoft y cómo aplicarlas al  negocio para ganar productividad y eficiencia.“IA Prefabricada: El  potencial de los Cognitive  Services”En esta sesión, nuestro CTIO Alberto  Díaz mostró las tecnologías de IA que ya  dominan nuestro entorno y lo que está por  venir en materia de Asistentes \n",
      "0.83788514: memoria-social-encamina-2018.pdf#page=22: II Foro de Empleo  Tecnológico en Tajamar _Entrevista a Pako Giménez en el  programa \"Tecnología y Sentido Común\" _Próximos webinars del ENCAteam: HPC   y ALM para Office 365 _First Line Workers Day: Office 365 F1 para  toda la plantilla _¡Nos vemos en el próximo Tech Breakfast  de InnovaHub Madrid! _Webinar desde el MVP Global Summit:   El futuro es ahora _Global Integration Bootcamp 2018:   llega el mayor evento de Integración   de Microsoft _Webinar ¡Es hora de transformar tu  primera línea! _Introducción a los Servicios Cognitivos  de Microsoft _...Posts23Hemos contado todos los eventos, webinars,  formaciones o talleres en los que   hemos participado.Blog ENCAMINA se mueve#ed8210  02. COLABORACIÓN _Buscamos Team Leader en Madrid _El talento sí importa, en el II Foro de  Empleo Tecnológico Tajamar _Lideramos el evento First Line   Workers Day _Sin jetlag no hay paraíso... ni MVP   Global Summit _Plan de Formación para futuros  Desarrolladores.Net _Global Integration Bootcamp 2018, más  global que nunca _Croquetas, panteras rosas y mojo   picón... así vivimos el Global Azure  Bootcamp 2018 _De un Dynamics 365 Saturday, solo  pueden salir cosas buenas _El SPS Madrid no es un \n",
      "0.8338754: memoria-social-encamina-2018.pdf#page=25:  La publicación, de  habla hispana y periodicidad trimestral, habla  de todo lo relacionado con la tecnología  Microsoft. Varios de sus autores más  destacados son miembros del equipo de  ENCAMINA. Concretamente, durante el 2018,  nuestros compañeros publicaron 13 artículos.CompartiMOSSMemoria Social ENCAMINA 201851 50_Diálogos en el paraíso: Cloud Público   y Privado en la empresa española _Entrevista en profundidad a Alberto Díaz,  CTIO de ENCAMINAVídeos2Ncora es una consultora tecnológica  que reúne periódicamente a expertos en  tecnología para abordar diferentes cuestiones  de actualidad. Durante el 2018 ENCAMINA ha  sido invitada en dos ocasiones para hablar en  su programa “Diálogos en el Paraíso” sobre  Cloud y Transformación Digital.Ncora.tv#ed8210  02. COLABORACIÓN _Aprende a como proporcionar   un servicio esencial de seguridad a   tus clientes _Descubriendo las mejores prácticas   de seguridad de O365 _¿Qué está pasando con la auditoría   en O365? _Asegurar la colección del sitio de  SharePoint Online _Desactivar la autenticación básica de  Exchange Online: Preview ya disponible!\n"
     ]
    }
   ],
   "source": [
    "credential = AzureKeyCredential(AZURE_SEARCH_KEY)\n",
    "search_client = SearchClient(endpoint=AZURE_SEARCH_SERVICE, index_name=AZURE_SEARCH_INDEX, credential=credential)\n",
    "\n",
    "search_vector = get_embedding(search_query, engine=EMBEDDING_MODEL)\n",
    "r = search_client.search(None, top=5, vector_queries=[RawVectorQuery(vector=search_vector, k=5, fields=\"embedding\", exhaustive=True)], filter=filter)\n",
    "\n",
    "content = \"\"\n",
    "for doc in r:\n",
    "    doccontent = doc[\"content\"].replace(\"\\n\", \" \")\n",
    "    content += \"\\n\" + f\"{doc['sourcepage']}: {doccontent}\"\n",
    "    print(f\"{doc['@search.score']}: {doc['sourcepage']}: {doccontent}\")\n",
    "    \n",
    "# results = [doc[self.sourcepage_field] + \": \" + doc[self.content_field] async for doc in r]\n",
    "# content = \"\\n\".join(results)"
   ]
  },
  {
   "cell_type": "code",
   "execution_count": 45,
   "metadata": {},
   "outputs": [],
   "source": [
    "system_chat_template = \"\"\"\n",
    "You are an intelligent assistant helping employees with our social memory questions. \n",
    "Use 'you' to refer to the individual asking the questions even if they ask with 'I'. \n",
    "Answer the following question using only the data provided in the sources below. \n",
    "For tabular information return it as an html table. Do not return markdown format. \n",
    "Each source has a name followed by colon and the actual information, always include the source name for each fact you use in the response. \n",
    "If you cannot answer using the sources below, say you don't know. Use below example to answer. \n",
    "\"\"\"\n",
    "\n",
    "question = \"\"\" \n",
    "'What is the deductible for the employee plan for a visit to Overlake in Bellevue?'\n",
    "\n",
    "Sources:\n",
    "info1.txt: deductibles depend on whether you are in-network or out-of-network. In-network deductibles are $500 for employee and $1000 for family. Out-of-network deductibles are $1000 for employee and $2000 for family.\n",
    "info2.pdf: Overlake is in-network for the employee plan.\n",
    "info3.pdf: Overlake is the name of the area that includes a park and ride near Bellevue.\n",
    "info4.pdf: In-network institutions include Overlake, Swedish and others in the region\n",
    "\"\"\"\n",
    "\n",
    "answer = \"\"\" \n",
    "In-network deductibles are $500 for employee and $1000 for family [info1.txt] and Overlake is in-network for the employee plan [info2.pdf][info4.pdf].\n",
    "\"\"\""
   ]
  },
  {
   "cell_type": "code",
   "execution_count": 48,
   "metadata": {},
   "outputs": [],
   "source": [
    "messages = []\n",
    "messages.append({ \"role\": \"system\", \"content\": system_chat_template })\n",
    "messages.append({ \"role\": \"user\", \"content\": question})\n",
    "messages.append({ \"role\": \"system\", \"content\": answer})\n",
    "\n",
    "search_query = \"¿Qué webinars se hicieron?\"\n",
    "\n",
    "user_content = search_query + \"\\n\" + f\"Sources:\\n {content}\"\n",
    "messages.append({ \"role\": \"user\", \"content\": user_content})"
   ]
  },
  {
   "cell_type": "code",
   "execution_count": 29,
   "metadata": {},
   "outputs": [
    {
     "name": "stdout",
     "output_type": "stream",
     "text": [
      "[{'role': 'system', 'content': \"\\nYou are an intelligent assistant helping employees with our social memory questions. \\nUse 'you' to refer to the individual asking the questions even if they ask with 'I'. \\nAnswer the following question using only the data provided in the sources below. \\nFor tabular information return it as an html table. Do not return markdown format. \\nEach source has a name followed by colon and the actual information, always include the source name for each fact you use in the response. \\nIf you cannot answer using the sources below, say you don't know. Use below example to answer. \\n\"}, {'role': 'user', 'content': \" \\n'What is the deductible for the employee plan for a visit to Overlake in Bellevue?'\\n\\nSources:\\ninfo1.txt: deductibles depend on whether you are in-network or out-of-network. In-network deductibles are $500 for employee and $1000 for family. Out-of-network deductibles are $1000 for employee and $2000 for family.\\ninfo2.pdf: Overlake is in-network for the employee plan.\\ninfo3.pdf: Overlake is the name of the area that includes a park and ride near Bellevue.\\ninfo4.pdf: In-network institutions include Overlake, Swedish and others in the region\\n\"}, {'role': 'system', 'content': ' \\nIn-network deductibles are $500 for employee and $1000 for family [info1.txt] and Overlake is in-network for the employee plan [info2.pdf][info4.pdf].\\n'}, {'role': 'user', 'content': '¿cuántas certificaciones en el año 2022?\\nSources:\\n \\nmemoria-social-encamina-2022.pdf#page=119: 20 años ACTUALIDAD CIO/CISO EN 20 LÍNEAS ¥ MUJERES TIC CIBERSEGURIDAD V A FONDO V COMPARATIVA * TENDENCIAS Inicio > Actualidad TI » La colaboración en el metaverso transformará la productividad de los empleados La colaboración en el metaverso transformará la productividad de los empleados Por Vanesa Garcia . 22 noviembre, 2022 in PDF Descarga el último número de Revista Byte TI CONTENIDO DESTACADO La confianza en la integridad de las relaciones: de la escritura cuneiforme a la ... Contenido Destacado Modified date: 17 enero, 2023 Nuestro IV laboratorio de ideas Propulsion Lab, con la participación de más de una decena de empresas de primer nivel, también salió reflejado en este medio de comunicación. 119Memoria Social ENCAMINA 2022 Valencia Plaza publicó el hecho de haber sido finalistas en la XII edición de los premios Nacionales de los Centros de Excelencia por nuestros productos de Fun Engagement. valenciaplaza vp ap q pd C + LL SE CELEBRÓ EL VIERNES EN EL PALACIO EUSKALDUNA DE BILBAO \\'Encamina\\', finalista de la XII edición de los Premios nacionales CEX 2022 Valencia Plaza El diario Valencia Plaza también habló del evento Smart Factories Lab, que se desarrolló durante dos \\nmemoria-social-encamina-2022.pdf#page=42:  42Equipo 434 EDUCACIÓN DE CALIDAD Nos volcamos en el talento porque queremos aportar nuestro granito de arena para garantizar una educación inclusiva, equitativa y de calidad y promover oportunidades de aprendizaje durante toda la vida para todos, en sintonía con los Objetivos de Desarrollo del Milenio. 8 TRABAJO DECENTE Y CRECIMIENTO ECONÓMICO ENCAMINA pone el foco en el esfuerzo alineándose con el objetivo de promover el crecimiento económico inclusivo y sostenible, el empleo y el trabajo decente para todos dentro del marco de los Objetivos de Desarrollo del Milenio.TalentoMemoria Social ENCAMINA 2022 La FORMACIÓN para que el TALENTO del #ENCATEAM brille, sigue siendo nuestra prioridad Aprendemos y nos desarrollamos continuamente tambié 45 nuevas certificaciones Hemos cerrado el 2022 con otro récord en certificaciones. 45 nuevas certificaciones en tecnologías Microsoft se han sumado dentro del equipo, acreditando un año más, que nuestro foco está en ampliar al máximo nuestro conocimiento en las tecnologías punteras en las que tenemos nuestro foco estratégico: Cloud Native, Infrastructure, Data & Al en Azure, Low Code con Power Platform, Adopción \\nmemoria-social-encamina-2022.pdf#page=104:  A estos post han acompañado multitud de vídeos internos en los que, casi cada semana, nos ha ido contando el día a día de cómo la pandemia estaba afectando a nuestro negocio y nuestra empresa. 6. Los errores de hoy pueden ser los éxitos de mañana, o no 7. Repensando nuestro Piensa en colores 8. Hagamos HAKA al futuro 1. Del desconcierto del 2021 a la esperanza en el 2022 2. Confía en el prójimo como te gustaría que los demás confiaran en ti 3. Un presente y un futuro que solo puede ser en paz 4. Respondiendo a mi sobrino sobre mis 22 años en ENCAMINA 5. Un nuevo curso lleno de incertidumbre con impulsos positivos desde el Microsoft Inspire 2022 104Colaboración Por una nube sostenible (15 posts) El equipo de Tecnología de ENCAMINA escribe sobre las últimas novedades y eventos sobre cloud y las mejores prácticas para implementar un desarrollo en la nube. 1. ¿ Por qué mi empresa necesita un plan de Gobierno de Azure? 2. ¡. NET cumple 20 años! 3. Microsoft Defender for Office 365: mejor con Simulador de ataques 4. Claves para el Gobierno de Azure 5. Primeras impresiones del nuevo Centro de Administración de Exchange 6.\\nmemoria-social-encamina-2022.pdf#page=79:  79Memoria Social ENCAMINA 2022 +50 patrocinios <table><tr><td>· VI Foro Tecnológico Tajamar</td><td></td></tr><tr><td>Madrid/Barcelona</td><td></td></tr><tr><td>. NetConf Madrid</td><td></td></tr><tr><td>· Global Al Bootcamp</td><td></td></tr><tr><td>· Semana Informática</td><td></td></tr><tr><td>· Global Azure Spain</td><td></td></tr><tr><td>· Noche de las Telecomunicaciones</td><td></td></tr><tr><td>. Pint of Science</td><td></td></tr><tr><td>· Power Plarform Madrid</td><td></td></tr><tr><td>· Madrid Expert Coding</td><td></td></tr><tr><td>· BiszzSummit</td><td></td></tr><tr><td>· Valencia Testing</td><td>TeamsNation</td></tr><tr><td>. Netcoreconf Madrid y Barcelona</td><td></td></tr><tr><td>· CollabDays Barcelona</td><td></td></tr><tr><td>· W4TT</td><td></td></tr><tr><td>· Power Platform Valencia</td><td></td></tr><tr><td>· Microsoft 365 Live</td><td></td></tr><tr><td>· SharePoint Saturday Live</td><td></td></tr><tr><td>· Academy 365</td><td></td></tr><tr><td>· Meet ESIC</td><td></td></tr><tr><td>· Las comunidades CompartiMOSS,</td><td></td></tr><tr><td>CrossDvLup, TenerifeDev, Modern</td><td></td></tr><tr><td>WorkPlace And \\nmemoria-social-encamina-2022.pdf#page=142: de Desarrollo del MilenioTrascendenciaMemoria Social ENCAMINA 2022 Trabajando con nuestro PROPÓSITO como combustible para el día a día Durante el 2022 nos hemos volcado en varias iniciativas para fomentar la diversidad, la inclusión y la sostenibilidad G YO también pienso en colores C 144Trascendencia AW МИД E TOKI Colaboramos en el lanzamiento del primer Bootcamp Tech destinado a formar en IA a las personas más vulnerables El primer Bootcamp Tech inclusivo y solidario de España está impulsado por Factoría F5. Su objetivo es ofrecer oportunidades al talento \"escondido\" y especialmente vulnerable: mujeres en situación precaria, jóvenes sin titulación, personas con discapacidad, desempleados de larga duración, personas refugiadas, etc. Estamos súper orgullosos de haber sido invitados a participar en el lanzamiento de este Bootcamp y estrechar lazos para seguir colaborando en el futuro. 145Memoria Social ENCAMINA 2022 #Yo TambiénSoyPartnerPledge Santiago Pomes Rodrigues . Ser Dedans de articulo que he leido sobre el potencial de la MA para ayudar a - ------------ dAndansady de PENCAMNA @ - POT dos Sowing Al expands to 5 now languages . Sauries ------ :selected: Roce Romera Liget .'}]\n"
     ]
    }
   ],
   "source": [
    "print(messages)"
   ]
  },
  {
   "cell_type": "code",
   "execution_count": 49,
   "metadata": {},
   "outputs": [
    {
     "name": "stdout",
     "output_type": "stream",
     "text": [
      "{\n",
      "  \"role\": \"assistant\",\n",
      "  \"content\": \"Los webinars que se hicieron son los siguientes:\\n\\n1. \\\"REVISE: C\\u00f3mo facilitar la correcci\\u00f3n masiva de ex\\u00e1menes aprovechando el cloud de Microsoft\\\" impartido por Adri\\u00e1n D\\u00edaz [memoria-social-encamina-2018.pdf#page=13]\\n2. \\\"Office 365 F1 para sector industrial\\\" impartido por Daniel Alonso [memoria-social-encamina-2018.pdf#page=13]\\n3. \\\"Es hora de transformar tu Primera L\\u00ednea: Office 365 F1 para sector retail\\\" impartido por Daniel Alonso [memoria-social-encamina-2018.pdf#page=13]\\n4. \\\"El futuro es ahora\\\" impartido por Alberto D\\u00edaz, Gustavo V\\u00e9lez, Juan Carlos Gonz\\u00e1lez y Fabian Imaz [memoria-social-encamina-2018.pdf#page=13]\\n5. \\\"Haciendo Workflows con Azure\\\" impartido por Adr\\u00edan D\\u00edaz Cervera, Sergio Hern\\u00e1ndez, Luis Ma\\u00f1ez y Rub\\u00e9n Ramos [memoria-social-encamina-2018.pdf#page=13]\\n6. \\\"Seguridad en O365 y Azure\\\" impartido por Daniel Alonso [memoria-social-encamina-2018.pdf#page=14]\\n7. \\\"Inteligencia Artificial: Viaje al centro de Databricks\\\" impartido por Iv\\u00e1n Vargas [memoria-social-encamina-2018.pdf#page=14]\\n8. \\\"IA Personalizada: Desarrollando aplicaciones a medida de tu empresa\\\" impartido por Adri\\u00e1n del Rinc\\u00f3n [memoria-social-encamina-2018.pdf#page=14]\\n9. \\\"IA Prefabricada: El potencial de los Cognitive Services\\\" impartido por Alberto D\\u00edaz [memoria-social-encamina-2018.pdf#page=14]\\n\\nEsos son los webinars mencionados en las fuentes proporcionadas.\"\n",
      "}\n"
     ]
    }
   ],
   "source": [
    "response = openai.ChatCompletion.create(\n",
    "    messages=messages,\n",
    "    deployment_id=COMPLETIONS_MODEL,\n",
    "    temperature=0.7,\n",
    ")\n",
    "\n",
    "print(response['choices'][0]['message'])"
   ]
  }
 ],
 "metadata": {
  "kernelspec": {
   "display_name": "Python 3",
   "language": "python",
   "name": "python3"
  },
  "language_info": {
   "codemirror_mode": {
    "name": "ipython",
    "version": 3
   },
   "file_extension": ".py",
   "mimetype": "text/x-python",
   "name": "python",
   "nbconvert_exporter": "python",
   "pygments_lexer": "ipython3",
   "version": "3.11.3"
  }
 },
 "nbformat": 4,
 "nbformat_minor": 2
}
